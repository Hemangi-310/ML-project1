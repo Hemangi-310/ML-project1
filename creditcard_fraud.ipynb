{
  "nbformat": 4,
  "nbformat_minor": 0,
  "metadata": {
    "colab": {
      "name": "creditcard_fraud.ipynb",
      "provenance": [],
      "collapsed_sections": []
    },
    "kernelspec": {
      "name": "python3",
      "display_name": "Python 3"
    },
    "language_info": {
      "name": "python"
    }
  },
  "cells": [
    {
      "cell_type": "code",
      "metadata": {
        "id": "Co95pJlZUBks"
      },
      "source": [
        "import numpy as np\n",
        "import pandas as pd\n",
        "import matplotlib.pyplot as plt\n",
        "import seaborn as sns\n",
        "import warnings\n",
        "warnings.filterwarnings('ignore')"
      ],
      "execution_count": 1,
      "outputs": []
    },
    {
      "cell_type": "code",
      "metadata": {
        "id": "aO_d2eZsUNmU"
      },
      "source": [
        "#To load dataset\n",
        "df=pd.read_csv('/content/sample_data/creditcard.csv')"
      ],
      "execution_count": 2,
      "outputs": []
    },
    {
      "cell_type": "code",
      "metadata": {
        "colab": {
          "base_uri": "https://localhost:8080/",
          "height": 218
        },
        "id": "sVOnMUvcfAvr",
        "outputId": "649bd09d-d4d4-4df8-d63f-50dfc5cc2096"
      },
      "source": [
        "#To show first five records\n",
        "df.head()"
      ],
      "execution_count": 3,
      "outputs": [
        {
          "output_type": "execute_result",
          "data": {
            "text/html": [
              "<div>\n",
              "<style scoped>\n",
              "    .dataframe tbody tr th:only-of-type {\n",
              "        vertical-align: middle;\n",
              "    }\n",
              "\n",
              "    .dataframe tbody tr th {\n",
              "        vertical-align: top;\n",
              "    }\n",
              "\n",
              "    .dataframe thead th {\n",
              "        text-align: right;\n",
              "    }\n",
              "</style>\n",
              "<table border=\"1\" class=\"dataframe\">\n",
              "  <thead>\n",
              "    <tr style=\"text-align: right;\">\n",
              "      <th></th>\n",
              "      <th>Time</th>\n",
              "      <th>V1</th>\n",
              "      <th>V2</th>\n",
              "      <th>V3</th>\n",
              "      <th>V4</th>\n",
              "      <th>V5</th>\n",
              "      <th>V6</th>\n",
              "      <th>V7</th>\n",
              "      <th>V8</th>\n",
              "      <th>V9</th>\n",
              "      <th>V10</th>\n",
              "      <th>V11</th>\n",
              "      <th>V12</th>\n",
              "      <th>V13</th>\n",
              "      <th>V14</th>\n",
              "      <th>V15</th>\n",
              "      <th>V16</th>\n",
              "      <th>V17</th>\n",
              "      <th>V18</th>\n",
              "      <th>V19</th>\n",
              "      <th>V20</th>\n",
              "      <th>V21</th>\n",
              "      <th>V22</th>\n",
              "      <th>V23</th>\n",
              "      <th>V24</th>\n",
              "      <th>V25</th>\n",
              "      <th>V26</th>\n",
              "      <th>V27</th>\n",
              "      <th>V28</th>\n",
              "      <th>Amount</th>\n",
              "      <th>Class</th>\n",
              "    </tr>\n",
              "  </thead>\n",
              "  <tbody>\n",
              "    <tr>\n",
              "      <th>0</th>\n",
              "      <td>0.0</td>\n",
              "      <td>-1.359807</td>\n",
              "      <td>-0.072781</td>\n",
              "      <td>2.536347</td>\n",
              "      <td>1.378155</td>\n",
              "      <td>-0.338321</td>\n",
              "      <td>0.462388</td>\n",
              "      <td>0.239599</td>\n",
              "      <td>0.098698</td>\n",
              "      <td>0.363787</td>\n",
              "      <td>0.090794</td>\n",
              "      <td>-0.551600</td>\n",
              "      <td>-0.617801</td>\n",
              "      <td>-0.991390</td>\n",
              "      <td>-0.311169</td>\n",
              "      <td>1.468177</td>\n",
              "      <td>-0.470401</td>\n",
              "      <td>0.207971</td>\n",
              "      <td>0.025791</td>\n",
              "      <td>0.403993</td>\n",
              "      <td>0.251412</td>\n",
              "      <td>-0.018307</td>\n",
              "      <td>0.277838</td>\n",
              "      <td>-0.110474</td>\n",
              "      <td>0.066928</td>\n",
              "      <td>0.128539</td>\n",
              "      <td>-0.189115</td>\n",
              "      <td>0.133558</td>\n",
              "      <td>-0.021053</td>\n",
              "      <td>149.62</td>\n",
              "      <td>0</td>\n",
              "    </tr>\n",
              "    <tr>\n",
              "      <th>1</th>\n",
              "      <td>0.0</td>\n",
              "      <td>1.191857</td>\n",
              "      <td>0.266151</td>\n",
              "      <td>0.166480</td>\n",
              "      <td>0.448154</td>\n",
              "      <td>0.060018</td>\n",
              "      <td>-0.082361</td>\n",
              "      <td>-0.078803</td>\n",
              "      <td>0.085102</td>\n",
              "      <td>-0.255425</td>\n",
              "      <td>-0.166974</td>\n",
              "      <td>1.612727</td>\n",
              "      <td>1.065235</td>\n",
              "      <td>0.489095</td>\n",
              "      <td>-0.143772</td>\n",
              "      <td>0.635558</td>\n",
              "      <td>0.463917</td>\n",
              "      <td>-0.114805</td>\n",
              "      <td>-0.183361</td>\n",
              "      <td>-0.145783</td>\n",
              "      <td>-0.069083</td>\n",
              "      <td>-0.225775</td>\n",
              "      <td>-0.638672</td>\n",
              "      <td>0.101288</td>\n",
              "      <td>-0.339846</td>\n",
              "      <td>0.167170</td>\n",
              "      <td>0.125895</td>\n",
              "      <td>-0.008983</td>\n",
              "      <td>0.014724</td>\n",
              "      <td>2.69</td>\n",
              "      <td>0</td>\n",
              "    </tr>\n",
              "    <tr>\n",
              "      <th>2</th>\n",
              "      <td>1.0</td>\n",
              "      <td>-1.358354</td>\n",
              "      <td>-1.340163</td>\n",
              "      <td>1.773209</td>\n",
              "      <td>0.379780</td>\n",
              "      <td>-0.503198</td>\n",
              "      <td>1.800499</td>\n",
              "      <td>0.791461</td>\n",
              "      <td>0.247676</td>\n",
              "      <td>-1.514654</td>\n",
              "      <td>0.207643</td>\n",
              "      <td>0.624501</td>\n",
              "      <td>0.066084</td>\n",
              "      <td>0.717293</td>\n",
              "      <td>-0.165946</td>\n",
              "      <td>2.345865</td>\n",
              "      <td>-2.890083</td>\n",
              "      <td>1.109969</td>\n",
              "      <td>-0.121359</td>\n",
              "      <td>-2.261857</td>\n",
              "      <td>0.524980</td>\n",
              "      <td>0.247998</td>\n",
              "      <td>0.771679</td>\n",
              "      <td>0.909412</td>\n",
              "      <td>-0.689281</td>\n",
              "      <td>-0.327642</td>\n",
              "      <td>-0.139097</td>\n",
              "      <td>-0.055353</td>\n",
              "      <td>-0.059752</td>\n",
              "      <td>378.66</td>\n",
              "      <td>0</td>\n",
              "    </tr>\n",
              "    <tr>\n",
              "      <th>3</th>\n",
              "      <td>1.0</td>\n",
              "      <td>-0.966272</td>\n",
              "      <td>-0.185226</td>\n",
              "      <td>1.792993</td>\n",
              "      <td>-0.863291</td>\n",
              "      <td>-0.010309</td>\n",
              "      <td>1.247203</td>\n",
              "      <td>0.237609</td>\n",
              "      <td>0.377436</td>\n",
              "      <td>-1.387024</td>\n",
              "      <td>-0.054952</td>\n",
              "      <td>-0.226487</td>\n",
              "      <td>0.178228</td>\n",
              "      <td>0.507757</td>\n",
              "      <td>-0.287924</td>\n",
              "      <td>-0.631418</td>\n",
              "      <td>-1.059647</td>\n",
              "      <td>-0.684093</td>\n",
              "      <td>1.965775</td>\n",
              "      <td>-1.232622</td>\n",
              "      <td>-0.208038</td>\n",
              "      <td>-0.108300</td>\n",
              "      <td>0.005274</td>\n",
              "      <td>-0.190321</td>\n",
              "      <td>-1.175575</td>\n",
              "      <td>0.647376</td>\n",
              "      <td>-0.221929</td>\n",
              "      <td>0.062723</td>\n",
              "      <td>0.061458</td>\n",
              "      <td>123.50</td>\n",
              "      <td>0</td>\n",
              "    </tr>\n",
              "    <tr>\n",
              "      <th>4</th>\n",
              "      <td>2.0</td>\n",
              "      <td>-1.158233</td>\n",
              "      <td>0.877737</td>\n",
              "      <td>1.548718</td>\n",
              "      <td>0.403034</td>\n",
              "      <td>-0.407193</td>\n",
              "      <td>0.095921</td>\n",
              "      <td>0.592941</td>\n",
              "      <td>-0.270533</td>\n",
              "      <td>0.817739</td>\n",
              "      <td>0.753074</td>\n",
              "      <td>-0.822843</td>\n",
              "      <td>0.538196</td>\n",
              "      <td>1.345852</td>\n",
              "      <td>-1.119670</td>\n",
              "      <td>0.175121</td>\n",
              "      <td>-0.451449</td>\n",
              "      <td>-0.237033</td>\n",
              "      <td>-0.038195</td>\n",
              "      <td>0.803487</td>\n",
              "      <td>0.408542</td>\n",
              "      <td>-0.009431</td>\n",
              "      <td>0.798278</td>\n",
              "      <td>-0.137458</td>\n",
              "      <td>0.141267</td>\n",
              "      <td>-0.206010</td>\n",
              "      <td>0.502292</td>\n",
              "      <td>0.219422</td>\n",
              "      <td>0.215153</td>\n",
              "      <td>69.99</td>\n",
              "      <td>0</td>\n",
              "    </tr>\n",
              "  </tbody>\n",
              "</table>\n",
              "</div>"
            ],
            "text/plain": [
              "   Time        V1        V2        V3  ...       V27       V28  Amount  Class\n",
              "0   0.0 -1.359807 -0.072781  2.536347  ...  0.133558 -0.021053  149.62      0\n",
              "1   0.0  1.191857  0.266151  0.166480  ... -0.008983  0.014724    2.69      0\n",
              "2   1.0 -1.358354 -1.340163  1.773209  ... -0.055353 -0.059752  378.66      0\n",
              "3   1.0 -0.966272 -0.185226  1.792993  ...  0.062723  0.061458  123.50      0\n",
              "4   2.0 -1.158233  0.877737  1.548718  ...  0.219422  0.215153   69.99      0\n",
              "\n",
              "[5 rows x 31 columns]"
            ]
          },
          "metadata": {
            "tags": []
          },
          "execution_count": 3
        }
      ]
    },
    {
      "cell_type": "code",
      "metadata": {
        "colab": {
          "base_uri": "https://localhost:8080/"
        },
        "id": "XkbFYcjtfMp9",
        "outputId": "54bad1c1-1f0b-4bab-dca1-5b90831f2974"
      },
      "source": [
        "#To show no. of columns and no.of rows\n",
        "df.shape"
      ],
      "execution_count": 4,
      "outputs": [
        {
          "output_type": "execute_result",
          "data": {
            "text/plain": [
              "(284807, 31)"
            ]
          },
          "metadata": {
            "tags": []
          },
          "execution_count": 4
        }
      ]
    },
    {
      "cell_type": "code",
      "metadata": {
        "id": "uNH10ROg0Wi8"
      },
      "source": [
        "#we have classification dataset means apply classification algorithm means \n",
        "#to predict Either creditcard fraud is there or not "
      ],
      "execution_count": 5,
      "outputs": []
    },
    {
      "cell_type": "code",
      "metadata": {
        "colab": {
          "base_uri": "https://localhost:8080/"
        },
        "id": "i93g5x_ifR6m",
        "outputId": "cfbe8003-e5a4-4554-e991-fbeb4e2f970c"
      },
      "source": [
        "#check null values\n",
        "df.isnull().sum()"
      ],
      "execution_count": 6,
      "outputs": [
        {
          "output_type": "execute_result",
          "data": {
            "text/plain": [
              "Time      0\n",
              "V1        0\n",
              "V2        0\n",
              "V3        0\n",
              "V4        0\n",
              "V5        0\n",
              "V6        0\n",
              "V7        0\n",
              "V8        0\n",
              "V9        0\n",
              "V10       0\n",
              "V11       0\n",
              "V12       0\n",
              "V13       0\n",
              "V14       0\n",
              "V15       0\n",
              "V16       0\n",
              "V17       0\n",
              "V18       0\n",
              "V19       0\n",
              "V20       0\n",
              "V21       0\n",
              "V22       0\n",
              "V23       0\n",
              "V24       0\n",
              "V25       0\n",
              "V26       0\n",
              "V27       0\n",
              "V28       0\n",
              "Amount    0\n",
              "Class     0\n",
              "dtype: int64"
            ]
          },
          "metadata": {
            "tags": []
          },
          "execution_count": 6
        }
      ]
    },
    {
      "cell_type": "code",
      "metadata": {
        "colab": {
          "base_uri": "https://localhost:8080/"
        },
        "id": "A87b9P36fbhU",
        "outputId": "354b1aca-8bbf-4257-ac9b-32e4879f9242"
      },
      "source": [
        "#check datatypes\n",
        "df.info()"
      ],
      "execution_count": 7,
      "outputs": [
        {
          "output_type": "stream",
          "text": [
            "<class 'pandas.core.frame.DataFrame'>\n",
            "RangeIndex: 284807 entries, 0 to 284806\n",
            "Data columns (total 31 columns):\n",
            " #   Column  Non-Null Count   Dtype  \n",
            "---  ------  --------------   -----  \n",
            " 0   Time    284807 non-null  float64\n",
            " 1   V1      284807 non-null  float64\n",
            " 2   V2      284807 non-null  float64\n",
            " 3   V3      284807 non-null  float64\n",
            " 4   V4      284807 non-null  float64\n",
            " 5   V5      284807 non-null  float64\n",
            " 6   V6      284807 non-null  float64\n",
            " 7   V7      284807 non-null  float64\n",
            " 8   V8      284807 non-null  float64\n",
            " 9   V9      284807 non-null  float64\n",
            " 10  V10     284807 non-null  float64\n",
            " 11  V11     284807 non-null  float64\n",
            " 12  V12     284807 non-null  float64\n",
            " 13  V13     284807 non-null  float64\n",
            " 14  V14     284807 non-null  float64\n",
            " 15  V15     284807 non-null  float64\n",
            " 16  V16     284807 non-null  float64\n",
            " 17  V17     284807 non-null  float64\n",
            " 18  V18     284807 non-null  float64\n",
            " 19  V19     284807 non-null  float64\n",
            " 20  V20     284807 non-null  float64\n",
            " 21  V21     284807 non-null  float64\n",
            " 22  V22     284807 non-null  float64\n",
            " 23  V23     284807 non-null  float64\n",
            " 24  V24     284807 non-null  float64\n",
            " 25  V25     284807 non-null  float64\n",
            " 26  V26     284807 non-null  float64\n",
            " 27  V27     284807 non-null  float64\n",
            " 28  V28     284807 non-null  float64\n",
            " 29  Amount  284807 non-null  float64\n",
            " 30  Class   284807 non-null  int64  \n",
            "dtypes: float64(30), int64(1)\n",
            "memory usage: 67.4 MB\n"
          ],
          "name": "stdout"
        }
      ]
    },
    {
      "cell_type": "code",
      "metadata": {
        "colab": {
          "base_uri": "https://localhost:8080/",
          "height": 279
        },
        "id": "sNIZF41xjhI2",
        "outputId": "4fb82ce9-f99a-4319-d8d9-5c5d7b51aacf"
      },
      "source": [
        "#we predict class (target)\n",
        "#how many '0' and '1' in target column class\n",
        "#visualize form then use inbuilt method countplot() because data is categorical\n",
        "sns.countplot(data=df,x='Class')\n",
        "c=df[\"Class\"].value_counts()\n",
        "plt.yticks(c)\n",
        "plt.show()"
      ],
      "execution_count": 8,
      "outputs": [
        {
          "output_type": "display_data",
          "data": {
            "image/png": "[encoded data removed]",
            "text/plain": [
              "<Figure size 432x288 with 1 Axes>"
            ]
          },
          "metadata": {
            "tags": [],
            "needs_background": "light"
          }
        }
      ]
    },
    {
      "cell_type": "code",
      "metadata": {
        "id": "33dQZ3rakOHo",
        "colab": {
          "base_uri": "https://localhost:8080/"
        },
        "outputId": "cfaba352-4b96-4f72-ae3e-c36f30489e7d"
      },
      "source": [
        "#Here data is imbalance means more difference between 0 and 1 data of\n",
        "#target\n",
        "df[\"Class\"].value_counts()"
      ],
      "execution_count": 9,
      "outputs": [
        {
          "output_type": "execute_result",
          "data": {
            "text/plain": [
              "0    284315\n",
              "1       492\n",
              "Name: Class, dtype: int64"
            ]
          },
          "metadata": {
            "tags": []
          },
          "execution_count": 9
        }
      ]
    },
    {
      "cell_type": "code",
      "metadata": {
        "id": "bxbKUfOMkZqX"
      },
      "source": [
        "#Here 0 : Majority class   and 1 : Minority class  means data is imbalance\n",
        "#so we have to balance the output variable\n",
        "# to Balance the target variable then used sampling technique : -\n",
        "#There are 2 types of sampling technique : -\n",
        "# 1. Random Under Sampling\n",
        "# 2. Random over sampling"
      ],
      "execution_count": 10,
      "outputs": []
    },
    {
      "cell_type": "code",
      "metadata": {
        "id": "5HlMmoQikgXQ"
      },
      "source": [
        "#Here we use Random over sampling\n",
        "#Random Over Sampling : - we increase the minority class means creates the duplicate rows of 1 class \n",
        "#(minority)class and equal to majority class means 0 class \n",
        "#If we are increasing the minority class that is known as over sampling .\n",
        "#call class inbuilt class RandomOverSampling : - define in imblearn package \n"
      ],
      "execution_count": 11,
      "outputs": []
    },
    {
      "cell_type": "code",
      "metadata": {
        "id": "dRQI4iCFktD2"
      },
      "source": [
        "from imblearn.over_sampling import RandomOverSampler\n",
        " #If you have basically creating duplicate rows of the minority class that is known as Over\n",
        " # sampling "
      ],
      "execution_count": 12,
      "outputs": []
    },
    {
      "cell_type": "code",
      "metadata": {
        "id": "aUtYuSIclJoZ"
      },
      "source": [
        "#if converts minority class to majority class  then use RandomOverSampler \n",
        "#Here in this dataset : Majority class :0  and Minority class : 1\n",
        "#create object of  RandomOverSampler() class\n",
        "ros = RandomOverSampler()"
      ],
      "execution_count": 13,
      "outputs": []
    },
    {
      "cell_type": "code",
      "metadata": {
        "id": "Ywl6qNktl1BB"
      },
      "source": [
        "#separate input and output variable from df dataframe: \n",
        "X=df.drop(\"Class\",axis=1) #input variable\n",
        "Y=df[\"Class\"] #Target variable"
      ],
      "execution_count": 14,
      "outputs": []
    },
    {
      "cell_type": "code",
      "metadata": {
        "id": "CgIv4rssnk8T"
      },
      "source": [
        "# call train_test_split to split dataset into 70% training and 30% testing data\n",
        "from sklearn.model_selection import train_test_split\n",
        "X_train,X_test,Y_train,Y_test=train_test_split(X,Y,test_size=0.3,random_state=1)"
      ],
      "execution_count": 15,
      "outputs": []
    },
    {
      "cell_type": "code",
      "metadata": {
        "id": "t9Xg7LbNnp2K"
      },
      "source": [
        "#train : use fit()\n",
        "#test : predict()\n",
        "#classification problem : report generate : use classification_report()\n",
        "#user defined function create\n",
        "def create_model(model):\n",
        "    model.fit(X_train,Y_train)#we train the model\n",
        "    y_pred=model.predict(X_test) #test\n",
        "    print(classification_report(Y_test,y_pred))\n",
        "    print(\"Confusion Matrix : \")\n",
        "    print(confusion_matrix(Y_test,y_pred))\n",
        "    return model"
      ],
      "execution_count": 16,
      "outputs": []
    },
    {
      "cell_type": "code",
      "metadata": {
        "id": "4AbgLdjLnyE8"
      },
      "source": [
        "from sklearn.metrics import classification_report\n",
        "from sklearn.metrics import confusion_matrix"
      ],
      "execution_count": 17,
      "outputs": []
    },
    {
      "cell_type": "code",
      "metadata": {
        "id": "tFijAsI0n2Ca"
      },
      "source": [
        "#Base Line Model means use Logistic Regression(we predict 0/1 values then \n",
        "#use classification algorithm)\n",
        "\n",
        "from sklearn.linear_model import LogisticRegression"
      ],
      "execution_count": 18,
      "outputs": []
    },
    {
      "cell_type": "code",
      "metadata": {
        "id": "EbfKF0DZoBAA"
      },
      "source": [
        "#create the object of LogisticRegression class\n",
        "lr=LogisticRegression()"
      ],
      "execution_count": 19,
      "outputs": []
    },
    {
      "cell_type": "code",
      "metadata": {
        "id": "lpvb3fa2oPgM",
        "colab": {
          "base_uri": "https://localhost:8080/"
        },
        "outputId": "7a21ab1d-19b7-4f51-9753-875005c63fc8"
      },
      "source": [
        "#call function\n",
        "create_model(lr)"
      ],
      "execution_count": 20,
      "outputs": [
        {
          "output_type": "stream",
          "text": [
            "              precision    recall  f1-score   support\n",
            "\n",
            "           0       1.00      1.00      1.00     85308\n",
            "           1       0.70      0.63      0.66       135\n",
            "\n",
            "    accuracy                           1.00     85443\n",
            "   macro avg       0.85      0.81      0.83     85443\n",
            "weighted avg       1.00      1.00      1.00     85443\n",
            "\n",
            "Confusion Matrix : \n",
            "[[85271    37]\n",
            " [   50    85]]\n"
          ],
          "name": "stdout"
        },
        {
          "output_type": "execute_result",
          "data": {
            "text/plain": [
              "LogisticRegression(C=1.0, class_weight=None, dual=False, fit_intercept=True,\n",
              "                   intercept_scaling=1, l1_ratio=None, max_iter=100,\n",
              "                   multi_class='auto', n_jobs=None, penalty='l2',\n",
              "                   random_state=None, solver='lbfgs', tol=0.0001, verbose=0,\n",
              "                   warm_start=False)"
            ]
          },
          "metadata": {
            "tags": []
          },
          "execution_count": 20
        }
      ]
    },
    {
      "cell_type": "code",
      "metadata": {
        "id": "WXLRUn9tlr2X"
      },
      "source": [
        "#fit_sample() inbuilt function which define RandomoverSampler class and pass training data\n",
        "#we have X_train and Y_train (70%)\n",
        "X_sample_train,Y_sample_train = ros.fit_sample(X_train,Y_train)"
      ],
      "execution_count": 21,
      "outputs": []
    },
    {
      "cell_type": "code",
      "metadata": {
        "id": "IssLGgUde-9v",
        "colab": {
          "base_uri": "https://localhost:8080/"
        },
        "outputId": "936825db-271b-47b9-9be1-68d4731ca0c8"
      },
      "source": [
        "#check\n",
        "pd.Series(Y_sample_train).value_counts()"
      ],
      "execution_count": 22,
      "outputs": [
        {
          "output_type": "execute_result",
          "data": {
            "text/plain": [
              "1    199007\n",
              "0    199007\n",
              "dtype: int64"
            ]
          },
          "metadata": {
            "tags": []
          },
          "execution_count": 22
        }
      ]
    },
    {
      "cell_type": "code",
      "metadata": {
        "id": "f1sMeRF6o7AO",
        "colab": {
          "base_uri": "https://localhost:8080/"
        },
        "outputId": "29b937cb-6432-4fa1-efc8-e11acb36bfa7"
      },
      "source": [
        "#Testing data 30% \n",
        "pd.Series(Y_test).value_counts() #this is unbalance "
      ],
      "execution_count": 23,
      "outputs": [
        {
          "output_type": "execute_result",
          "data": {
            "text/plain": [
              "0    85308\n",
              "1      135\n",
              "Name: Class, dtype: int64"
            ]
          },
          "metadata": {
            "tags": []
          },
          "execution_count": 23
        }
      ]
    },
    {
      "cell_type": "code",
      "metadata": {
        "id": "x6Jo9LKUpAE5"
      },
      "source": [
        "#fit_sample() inbuilt function which define RandomOverSampler class and pass testing data\n",
        "#we have X_test and Y_test (30%)\n",
        "X_sample_test,Y_sample_test = ros.fit_sample(X_test,Y_test) "
      ],
      "execution_count": 24,
      "outputs": []
    },
    {
      "cell_type": "code",
      "metadata": {
        "id": "-Hgc1L2FpGTw",
        "colab": {
          "base_uri": "https://localhost:8080/"
        },
        "outputId": "3d9581e9-8ede-4562-c4b3-2ba1b6fc616a"
      },
      "source": [
        "#check\n",
        "pd.Series(Y_sample_test).value_counts()"
      ],
      "execution_count": 25,
      "outputs": [
        {
          "output_type": "execute_result",
          "data": {
            "text/plain": [
              "1    85308\n",
              "0    85308\n",
              "dtype: int64"
            ]
          },
          "metadata": {
            "tags": []
          },
          "execution_count": 25
        }
      ]
    },
    {
      "cell_type": "code",
      "metadata": {
        "id": "yDZA1p9KpNuT"
      },
      "source": [
        "#we train the model with the help og Logistic regression after apply randomoversampler\n",
        "#we create the object of Logistic Regression class\n",
        "lr=LogisticRegression()"
      ],
      "execution_count": 26,
      "outputs": []
    },
    {
      "cell_type": "code",
      "metadata": {
        "id": "Y5zVD7o6pRyh"
      },
      "source": [
        "#create function\n",
        "def create_model1(model):\n",
        "    model.fit(X_sample_train,Y_sample_train)#we train the model\n",
        "    Y_pred=model.predict(X_sample_test) #test\n",
        "    print(classification_report(Y_sample_test,Y_pred))\n",
        "    print(\"Confusion Matrix : \")\n",
        "    print(confusion_matrix(Y_sample_test,Y_pred))\n",
        "    return model"
      ],
      "execution_count": 27,
      "outputs": []
    },
    {
      "cell_type": "code",
      "metadata": {
        "id": "-Fjk9CytpWfP",
        "colab": {
          "base_uri": "https://localhost:8080/"
        },
        "outputId": "f2a1dae1-9322-43b3-d3f8-feab2a422a03"
      },
      "source": [
        "#call function\n",
        "create_model1(lr)"
      ],
      "execution_count": 28,
      "outputs": [
        {
          "output_type": "stream",
          "text": [
            "              precision    recall  f1-score   support\n",
            "\n",
            "           0       0.86      0.96      0.91     85308\n",
            "           1       0.96      0.84      0.90     85308\n",
            "\n",
            "    accuracy                           0.90    170616\n",
            "   macro avg       0.91      0.90      0.90    170616\n",
            "weighted avg       0.91      0.90      0.90    170616\n",
            "\n",
            "Confusion Matrix : \n",
            "[[81993  3315]\n",
            " [13261 72047]]\n"
          ],
          "name": "stdout"
        },
        {
          "output_type": "execute_result",
          "data": {
            "text/plain": [
              "LogisticRegression(C=1.0, class_weight=None, dual=False, fit_intercept=True,\n",
              "                   intercept_scaling=1, l1_ratio=None, max_iter=100,\n",
              "                   multi_class='auto', n_jobs=None, penalty='l2',\n",
              "                   random_state=None, solver='lbfgs', tol=0.0001, verbose=0,\n",
              "                   warm_start=False)"
            ]
          },
          "metadata": {
            "tags": []
          },
          "execution_count": 28
        }
      ]
    },
    {
      "cell_type": "code",
      "metadata": {
        "id": "ECkCgM5jpl3D"
      },
      "source": [
        "#Apply decisionTreeClassifier : this is select algorithm of classification ,Its help to select imp\n",
        "#features to predict the o/p , not done manually data analysis to select imp features\n",
        "from sklearn.tree import DecisionTreeClassifier"
      ],
      "execution_count": 29,
      "outputs": []
    },
    {
      "cell_type": "code",
      "metadata": {
        "id": "vzuoYjRKpoIB"
      },
      "source": [
        "#create the object of DecisionTreeClassifier class\n",
        "dt1=DecisionTreeClassifier() #by default gini index method to select imp features"
      ],
      "execution_count": 30,
      "outputs": []
    },
    {
      "cell_type": "code",
      "metadata": {
        "id": "-PO1mLQgprzf",
        "colab": {
          "base_uri": "https://localhost:8080/"
        },
        "outputId": "dcd0fa55-d6d6-4158-b789-84ac325c3490"
      },
      "source": [
        "#call function\n",
        "dt1=create_model1(dt1)"
      ],
      "execution_count": 31,
      "outputs": [
        {
          "output_type": "stream",
          "text": [
            "              precision    recall  f1-score   support\n",
            "\n",
            "           0       0.77      1.00      0.87     85308\n",
            "           1       1.00      0.70      0.82     85308\n",
            "\n",
            "    accuracy                           0.85    170616\n",
            "   macro avg       0.88      0.85      0.84    170616\n",
            "weighted avg       0.88      0.85      0.84    170616\n",
            "\n",
            "Confusion Matrix : \n",
            "[[85278    30]\n",
            " [25850 59458]]\n"
          ],
          "name": "stdout"
        }
      ]
    },
    {
      "cell_type": "code",
      "metadata": {
        "id": "aFeC8hVep568",
        "colab": {
          "base_uri": "https://localhost:8080/"
        },
        "outputId": "429151dd-baa8-4e08-d19d-92d6c7ad3c2d"
      },
      "source": [
        "#here recall for 1 : 0.70 it is good but not better means model is overfit\n",
        "dt1.feature_importances_ # to show reduction of all input features"
      ],
      "execution_count": 32,
      "outputs": [
        {
          "output_type": "execute_result",
          "data": {
            "text/plain": [
              "array([1.39712739e-02, 1.40442759e-04, 1.97165245e-03, 1.02840824e-03,\n",
              "       4.41210860e-02, 7.32370786e-03, 2.01732309e-03, 1.24976842e-02,\n",
              "       1.08173537e-02, 5.42459542e-03, 3.77866332e-02, 1.93952845e-03,\n",
              "       2.54008714e-02, 1.57995735e-02, 7.40880458e-01, 3.01512889e-05,\n",
              "       1.31452169e-03, 6.45507427e-03, 2.60034653e-03, 1.15382242e-02,\n",
              "       1.77854643e-02, 1.75810381e-03, 5.61812193e-03, 5.99922786e-03,\n",
              "       1.10216166e-04, 4.69126207e-04, 5.64175933e-03, 4.87632587e-03,\n",
              "       4.25799231e-03, 1.04247520e-02])"
            ]
          },
          "metadata": {
            "tags": []
          },
          "execution_count": 32
        }
      ]
    },
    {
      "cell_type": "code",
      "metadata": {
        "id": "RKcF4JI6p_cm",
        "colab": {
          "base_uri": "https://localhost:8080/"
        },
        "outputId": "3309d04b-8a25-498d-f78d-2ada02aac2cf"
      },
      "source": [
        "X.columns"
      ],
      "execution_count": 33,
      "outputs": [
        {
          "output_type": "execute_result",
          "data": {
            "text/plain": [
              "Index(['Time', 'V1', 'V2', 'V3', 'V4', 'V5', 'V6', 'V7', 'V8', 'V9', 'V10',\n",
              "       'V11', 'V12', 'V13', 'V14', 'V15', 'V16', 'V17', 'V18', 'V19', 'V20',\n",
              "       'V21', 'V22', 'V23', 'V24', 'V25', 'V26', 'V27', 'V28', 'Amount'],\n",
              "      dtype='object')"
            ]
          },
          "metadata": {
            "tags": []
          },
          "execution_count": 33
        }
      ]
    },
    {
      "cell_type": "code",
      "metadata": {
        "id": "iYUKh4FEqDIw"
      },
      "source": [
        "#recall =0.70 means model is overfit , to reduced / remove overfit problem so apply pruning technique\n",
        "#in decisiontreeclassifier class\n",
        "#1. max_depth parameter : it cannot >8 \n",
        "#create the object of DecisionTreeClassifier class\n",
        "dt2=DecisionTreeClassifier(max_depth=4) #by default gini index"
      ],
      "execution_count": 34,
      "outputs": []
    },
    {
      "cell_type": "code",
      "metadata": {
        "id": "-C786W5aqOkb",
        "colab": {
          "base_uri": "https://localhost:8080/"
        },
        "outputId": "881d1646-586e-443d-bbbb-713feb322128"
      },
      "source": [
        "#call function\n",
        "dt2=create_model1(dt2)"
      ],
      "execution_count": 35,
      "outputs": [
        {
          "output_type": "stream",
          "text": [
            "              precision    recall  f1-score   support\n",
            "\n",
            "           0       0.86      0.98      0.92     85308\n",
            "           1       0.98      0.84      0.91     85308\n",
            "\n",
            "    accuracy                           0.91    170616\n",
            "   macro avg       0.92      0.91      0.91    170616\n",
            "weighted avg       0.92      0.91      0.91    170616\n",
            "\n",
            "Confusion Matrix : \n",
            "[[83843  1465]\n",
            " [13296 72012]]\n"
          ],
          "name": "stdout"
        }
      ]
    },
    {
      "cell_type": "code",
      "metadata": {
        "id": "ti6EyHDYqOy9",
        "colab": {
          "base_uri": "https://localhost:8080/"
        },
        "outputId": "dac3865a-f5f0-48ae-ecfa-d29f54ae7edb"
      },
      "source": [
        "F=dt2.feature_importances_ # to show reduction of all input features\n",
        "print(np.round(F,2))"
      ],
      "execution_count": 36,
      "outputs": [
        {
          "output_type": "stream",
          "text": [
            "[0.   0.   0.   0.   0.05 0.   0.   0.   0.   0.   0.03 0.   0.03 0.\n",
            " 0.86 0.   0.   0.   0.   0.   0.02 0.   0.   0.01 0.   0.   0.   0.\n",
            " 0.   0.01]\n"
          ],
          "name": "stdout"
        }
      ]
    },
    {
      "cell_type": "code",
      "metadata": {
        "id": "2yhclHSXry8q"
      },
      "source": [
        "#Apply Ensembling technique\n",
        "#1.Apply Ada Boost ensembling technique:\n",
        "from sklearn.ensemble import AdaBoostClassifier"
      ],
      "execution_count": 37,
      "outputs": []
    },
    {
      "cell_type": "code",
      "metadata": {
        "id": "5RMSu0M-qY5X"
      },
      "source": [
        "#create the object of AdaBoostClassifier \n",
        "ada=AdaBoostClassifier(n_estimators=50) #n_estimators=100 : this is parameter (it is used for iteration)\n",
        "#we define 100 , can be <=100 ,adaboost creates a decisionstump(decisiontree)"
      ],
      "execution_count": 38,
      "outputs": []
    },
    {
      "cell_type": "code",
      "metadata": {
        "id": "l8SExv92r8Bg",
        "colab": {
          "base_uri": "https://localhost:8080/"
        },
        "outputId": "ec0e11a9-22bc-47b1-e63b-fd354ed3379e"
      },
      "source": [
        "#call function after apply randomoversampler\n",
        "create_model1(ada)"
      ],
      "execution_count": 39,
      "outputs": [
        {
          "output_type": "stream",
          "text": [
            "              precision    recall  f1-score   support\n",
            "\n",
            "           0       0.89      0.99      0.93     85308\n",
            "           1       0.98      0.87      0.93     85308\n",
            "\n",
            "    accuracy                           0.93    170616\n",
            "   macro avg       0.94      0.93      0.93    170616\n",
            "weighted avg       0.94      0.93      0.93    170616\n",
            "\n",
            "Confusion Matrix : \n",
            "[[84125  1183]\n",
            " [10817 74491]]\n"
          ],
          "name": "stdout"
        },
        {
          "output_type": "execute_result",
          "data": {
            "text/plain": [
              "AdaBoostClassifier(algorithm='SAMME.R', base_estimator=None, learning_rate=1.0,\n",
              "                   n_estimators=50, random_state=None)"
            ]
          },
          "metadata": {
            "tags": []
          },
          "execution_count": 39
        }
      ]
    },
    {
      "cell_type": "code",
      "metadata": {
        "id": "Jum8pf2YsX2w"
      },
      "source": [
        "#2.Apply Gradient Boosting \n",
        "from sklearn.ensemble import GradientBoostingClassifier "
      ],
      "execution_count": 40,
      "outputs": []
    },
    {
      "cell_type": "code",
      "metadata": {
        "id": "gg4B3XVAt03N"
      },
      "source": [
        "#create the object of GradientBoostingClassifier class\n",
        "gbc=GradientBoostingClassifier(n_estimators=75) #no. of iterations <=100 use algo. decisiontreeclassifier"
      ],
      "execution_count": 41,
      "outputs": []
    },
    {
      "cell_type": "code",
      "metadata": {
        "id": "RM0GzJ25t0-H",
        "colab": {
          "base_uri": "https://localhost:8080/"
        },
        "outputId": "2e24422a-c0b3-446d-a91e-e1d6cc20ac80"
      },
      "source": [
        "#call function after apply randomoversampler\n",
        "create_model1(gbc)"
      ],
      "execution_count": 42,
      "outputs": [
        {
          "output_type": "stream",
          "text": [
            "              precision    recall  f1-score   support\n",
            "\n",
            "           0       0.87      0.99      0.93     85308\n",
            "           1       0.99      0.85      0.92     85308\n",
            "\n",
            "    accuracy                           0.92    170616\n",
            "   macro avg       0.93      0.92      0.92    170616\n",
            "weighted avg       0.93      0.92      0.92    170616\n",
            "\n",
            "Confusion Matrix : \n",
            "[[84719   589]\n",
            " [12667 72641]]\n"
          ],
          "name": "stdout"
        },
        {
          "output_type": "execute_result",
          "data": {
            "text/plain": [
              "GradientBoostingClassifier(ccp_alpha=0.0, criterion='friedman_mse', init=None,\n",
              "                           learning_rate=0.1, loss='deviance', max_depth=3,\n",
              "                           max_features=None, max_leaf_nodes=None,\n",
              "                           min_impurity_decrease=0.0, min_impurity_split=None,\n",
              "                           min_samples_leaf=1, min_samples_split=2,\n",
              "                           min_weight_fraction_leaf=0.0, n_estimators=75,\n",
              "                           n_iter_no_change=None, presort='deprecated',\n",
              "                           random_state=None, subsample=1.0, tol=0.0001,\n",
              "                           validation_fraction=0.1, verbose=0,\n",
              "                           warm_start=False)"
            ]
          },
          "metadata": {
            "tags": []
          },
          "execution_count": 42
        }
      ]
    },
    {
      "cell_type": "code",
      "metadata": {
        "id": "Hhovb3mTxPRE"
      },
      "source": [
        "#3.Apply Extreme Gradient Boost(XGB): It is better version of Gradient boosting\n",
        "from xgboost import XGBClassifier  #call xgboost inbuilt package"
      ],
      "execution_count": 43,
      "outputs": []
    },
    {
      "cell_type": "code",
      "metadata": {
        "id": "M1Pwt08uxXTr"
      },
      "source": [
        "#create the object of XGBClassifier class\n",
        "xgb=XGBClassifier(n_estimators=100,reg_alpha=1) #reg_alpha=1 means automatic handle overfitting situation and\n",
        "#outlier "
      ],
      "execution_count": 44,
      "outputs": []
    },
    {
      "cell_type": "code",
      "metadata": {
        "id": "pa4zPQZTxXdt",
        "colab": {
          "base_uri": "https://localhost:8080/"
        },
        "outputId": "4efaf4f1-7d5c-4380-c046-f871111f6711"
      },
      "source": [
        "#call function after apply randomoversampler\n",
        "create_model1(xgb)"
      ],
      "execution_count": 45,
      "outputs": [
        {
          "output_type": "stream",
          "text": [
            "              precision    recall  f1-score   support\n",
            "\n",
            "           0       0.86      1.00      0.93     85308\n",
            "           1       0.99      0.84      0.91     85308\n",
            "\n",
            "    accuracy                           0.92    170616\n",
            "   macro avg       0.93      0.92      0.92    170616\n",
            "weighted avg       0.93      0.92      0.92    170616\n",
            "\n",
            "Confusion Matrix : \n",
            "[[84888   420]\n",
            " [13297 72011]]\n"
          ],
          "name": "stdout"
        },
        {
          "output_type": "execute_result",
          "data": {
            "text/plain": [
              "XGBClassifier(base_score=0.5, booster='gbtree', colsample_bylevel=1,\n",
              "              colsample_bynode=1, colsample_bytree=1, gamma=0,\n",
              "              learning_rate=0.1, max_delta_step=0, max_depth=3,\n",
              "              min_child_weight=1, missing=None, n_estimators=100, n_jobs=1,\n",
              "              nthread=None, objective='binary:logistic', random_state=0,\n",
              "              reg_alpha=1, reg_lambda=1, scale_pos_weight=1, seed=None,\n",
              "              silent=None, subsample=1, verbosity=1)"
            ]
          },
          "metadata": {
            "tags": []
          },
          "execution_count": 45
        }
      ]
    },
    {
      "cell_type": "code",
      "metadata": {
        "id": "HV6rjNAJx79I"
      },
      "source": [
        "#Apply another ensembling tech :  randomforesttree :it use decisiontree\n",
        "from sklearn.ensemble import RandomForestClassifier  #use decisiontree"
      ],
      "execution_count": 46,
      "outputs": []
    },
    {
      "cell_type": "code",
      "metadata": {
        "id": "XyCEl8eqyArd",
        "colab": {
          "base_uri": "https://localhost:8080/"
        },
        "outputId": "cf423407-694b-4dfb-daed-d947ed890517"
      },
      "source": [
        "#create the object of RandomForestClassifier class\n",
        "rfc=RandomForestClassifier(n_estimators=100,max_features=4,random_state=1)#here n_estimators is a parameter\n",
        "#which show no. of decisiontree (how many decisiontree) and max_features means max imp input select\n",
        "X.shape"
      ],
      "execution_count": 47,
      "outputs": [
        {
          "output_type": "execute_result",
          "data": {
            "text/plain": [
              "(284807, 30)"
            ]
          },
          "metadata": {
            "tags": []
          },
          "execution_count": 47
        }
      ]
    },
    {
      "cell_type": "code",
      "metadata": {
        "id": "KsZGiHb1yFY_",
        "colab": {
          "base_uri": "https://localhost:8080/"
        },
        "outputId": "6bf9dc45-c9fc-4253-80ed-04168d731581"
      },
      "source": [
        "#call function after apply randomoversampler\n",
        "create_model1(rfc)"
      ],
      "execution_count": 48,
      "outputs": [
        {
          "output_type": "stream",
          "text": [
            "              precision    recall  f1-score   support\n",
            "\n",
            "           0       0.81      1.00      0.89     85308\n",
            "           1       1.00      0.76      0.87     85308\n",
            "\n",
            "    accuracy                           0.88    170616\n",
            "   macro avg       0.90      0.88      0.88    170616\n",
            "weighted avg       0.90      0.88      0.88    170616\n",
            "\n",
            "Confusion Matrix : \n",
            "[[85300     8]\n",
            " [20156 65152]]\n"
          ],
          "name": "stdout"
        },
        {
          "output_type": "execute_result",
          "data": {
            "text/plain": [
              "RandomForestClassifier(bootstrap=True, ccp_alpha=0.0, class_weight=None,\n",
              "                       criterion='gini', max_depth=None, max_features=4,\n",
              "                       max_leaf_nodes=None, max_samples=None,\n",
              "                       min_impurity_decrease=0.0, min_impurity_split=None,\n",
              "                       min_samples_leaf=1, min_samples_split=2,\n",
              "                       min_weight_fraction_leaf=0.0, n_estimators=100,\n",
              "                       n_jobs=None, oob_score=False, random_state=1, verbose=0,\n",
              "                       warm_start=False)"
            ]
          },
          "metadata": {
            "tags": []
          },
          "execution_count": 48
        }
      ]
    },
    {
      "cell_type": "code",
      "metadata": {
        "id": "Pdps7pK2aaoL"
      },
      "source": [
        "Y_pred=rfc.predict(X_sample_test)"
      ],
      "execution_count": 55,
      "outputs": []
    },
    {
      "cell_type": "code",
      "metadata": {
        "colab": {
          "base_uri": "https://localhost:8080/",
          "height": 730
        },
        "id": "vFHpT1uQaqIm",
        "outputId": "a6d15944-950d-41e3-c469-3d1aa03c248a"
      },
      "source": [
        "#Visulalizing the Confusion Matrix\n",
        "# printing the confusion matrix\n",
        "LABELS = ['Normal', 'Fraud']\n",
        "conf_matrix = confusion_matrix(Y_sample_test,Y_pred)\n",
        "plt.figure(figsize =(12, 12))\n",
        "sns.heatmap(conf_matrix, xticklabels = LABELS,yticklabels = LABELS, annot = True, fmt =\"d\");\n",
        "plt.title(\"Confusion matrix\")\n",
        "plt.ylabel('True class')\n",
        "plt.xlabel('Predicted class')\n",
        "plt.show()"
      ],
      "execution_count": 56,
      "outputs": [
        {
          "output_type": "display_data",
          "data": {
            "image/png": "[encoded data removed]",
            "text/plain": [
              "<Figure size 864x864 with 2 Axes>"
            ]
          },
          "metadata": {
            "tags": [],
            "needs_background": "light"
          }
        }
      ]
    }
  ]
}